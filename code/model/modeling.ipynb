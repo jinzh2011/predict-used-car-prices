{
 "cells": [
  {
   "cell_type": "code",
   "execution_count": null,
   "metadata": {
    "collapsed": true
   },
   "outputs": [],
   "source": [
    "import pandas as pd\n",
    "import numpy as np\n",
    "import matplotlib.pyplot as plt\n",
    "import seaborn as sns\n",
    "import sklearn\n",
    "%matplotlib inline\n",
    "from sklearn.model_selection import train_test_split,KFold,GridSearchCV,PredefinedSplit\n",
    "from sklearn import linear_model,ensemble, tree, model_selection\n",
    "\n",
    "\n",
    "pd.options.display.float_format = '{:,.3f}'.format\n",
    "pd.options.display.max_rows = 300\n",
    "\n"
   ]
  },
  {
   "cell_type": "code",
   "execution_count": null,
   "metadata": {
    "collapsed": true
   },
   "outputs": [],
   "source": [
    "truecar_file = 'truecar_clean_data.plk'\n",
    "df = pd.read_pickle(truecar_file)\n",
    "df = df.rename(columns={col: col.replace('_clean','') for col in df.columns})\n",
    "df = df[df.listPrice< 300000]"
   ]
  },
  {
   "cell_type": "code",
   "execution_count": null,
   "metadata": {},
   "outputs": [],
   "source": [
    "df.info()"
   ]
  },
  {
   "cell_type": "code",
   "execution_count": null,
   "metadata": {
    "collapsed": true
   },
   "outputs": [],
   "source": [
    "X,y = df.drop('listPrice', axis=1),df[['listPrice']]"
   ]
  },
  {
   "cell_type": "code",
   "execution_count": null,
   "metadata": {
    "collapsed": true
   },
   "outputs": [],
   "source": [
    "df_factor_data = df.select_dtypes(include=['object'])\n",
    "df_number_data = df.select_dtypes(exclude=['object']).drop('listPrice',axis=1)"
   ]
  },
  {
   "cell_type": "code",
   "execution_count": null,
   "metadata": {
    "collapsed": true
   },
   "outputs": [],
   "source": [
    "# one split of train and test"
   ]
  },
  {
   "cell_type": "code",
   "execution_count": null,
   "metadata": {
    "collapsed": true
   },
   "outputs": [],
   "source": [
    "# convert categorical variable to average prices \n",
    "\n",
    "X_train,X_test, Y_train, Y_test = train_test_split(X, y, test_size=0.3, random_state=197)\n",
    "df_copy = df.copy(deep = True)\n",
    "for col in df_factor_data.columns:\n",
    "    df_copy = df_copy.reset_index().merge(df_copy.loc[X_train.index].pivot_table(values=[\"listPrice\"],\\\n",
    "                                          index=[col], aggfunc=np.mean).reset_index()\\\n",
    "                                          .rename(columns = {'listPrice': col+'_value'}),\\\n",
    "                                    how='left',on=col, suffixes=('', '_y')).set_index('index')\n",
    "    df_copy[col+'_value'] = df_copy[col+'_value'].fillna(df_copy['listPrice'])\n",
    "\n",
    "X_cont = pd.concat([df_copy.filter(regex=(\"value$\"),axis=1),df_number_data], axis=1)\n",
    "X_train_cont = X_cont.loc[X_train.index]\n",
    "X_test_cont = X_cont.loc[X_test.index]\n"
   ]
  },
  {
   "cell_type": "code",
   "execution_count": null,
   "metadata": {},
   "outputs": [],
   "source": [
    "# compare different models\n",
    "\n",
    "models = {}\n",
    "parameters = {}\n",
    "\n",
    "models['linear_model'] = linear_model.LinearRegression()\n",
    "models['ridge_model'] = linear_model.Ridge()\n",
    "models['lasso_model'] = linear_model.Lasso(alpha=.5)\n",
    "models['robust_regression'] = linear_model.SGDRegressor(loss='huber',n_iter=20)\n",
    "models['eps_insensitive'] = linear_model.SGDRegressor(loss='epsilon_insensitive',n_iter=20)\n",
    "\n",
    "\n",
    "models['cart'] = tree.DecisionTreeRegressor(max_depth=7)\n",
    "models['extratrees'] = tree.ExtraTreeRegressor(max_depth=7)\n",
    "models['randomForest'] = ensemble.RandomForestRegressor()\n",
    "models['adaboostedTrees'] = ensemble.AdaBoostRegressor()\n",
    "models['gradboostedTrees'] = ensemble.GradientBoostingRegressor()\n",
    "\n",
    "\n",
    "for name,model in models.items():\n",
    "    selected_columns2 = X_cont.filter(regex=(\"^(?!interior)\"),axis=1).columns\n",
    "    model2 = model\n",
    "    model2.fit(X_train_cont[selected_columns2],Y_train)\n",
    "    test_set_pred2 = model2.predict(X_test_cont[selected_columns2])\n",
    "    scores = model2.score(X_test_cont[selected_columns2],Y_test)\n",
    "    rmse = np.sqrt(np.mean((test_set_pred2 - np.array(Y_test))**2))\n",
    "    print('Model: '+name)\n",
    "    print(\"Score: \" + str(scores))\n",
    "    print(\"RMSE: \" + str(rmse))\n",
    "    print()\n",
    "\n",
    "    "
   ]
  },
  {
   "cell_type": "code",
   "execution_count": null,
   "metadata": {
    "collapsed": true
   },
   "outputs": [],
   "source": [
    "# five-fold cross-validation"
   ]
  },
  {
   "cell_type": "code",
   "execution_count": null,
   "metadata": {
    "collapsed": true
   },
   "outputs": [],
   "source": [
    "# function that split between k-fold sets and process categorical variables into average prices\n",
    "def return_data(df):\n",
    "    kf = KFold(n_splits=5, random_state =43, shuffle = True)\n",
    "    X = df.drop('listPrice', axis=1)\n",
    "    y = df[['listPrice']]\n",
    "    fold = 0\n",
    "    X_train_all = pd.DataFrame()\n",
    "    X_test_all = pd.DataFrame()\n",
    "    y_train_all = pd.DataFrame()\n",
    "    y_test_all = pd.DataFrame()\n",
    "    \n",
    "    \n",
    "    for train_index, test_index in kf.split(X):\n",
    "        train_vin_index = X.iloc[train_index].index\n",
    "        test_vin_index = X.iloc[test_index].index\n",
    "        \n",
    "        fold += 1\n",
    "        \n",
    "        df_copy = df.copy(deep=True) \n",
    "        \n",
    "        # calculate average prices for categorical variables\n",
    "        for col in df_factor_data.columns:\n",
    "            df_copy = df_copy.reset_index().merge(df_copy.loc[train_vin_index].pivot_table(values=[\"listPrice\"],\\\n",
    "                                                  index=[col], aggfunc=np.mean).reset_index()\\\n",
    "                                                  .rename(columns = {'listPrice': col+'_value'}),\\\n",
    "                                            how='left',on=col, suffixes=('', '_y')).set_index('index')\n",
    "            df_copy[col+'_value'] = df_copy[col+'_value'].fillna(df_copy['listPrice'])\n",
    "            \n",
    "        X_continuous = pd.concat([df_copy.filter(regex=(\"value$\"),axis=1),df_number_data], axis=1)\n",
    "        \n",
    "        X_train_continuous = X_continuous.loc[train_vin_index]\\\n",
    "                                         .assign(fold_index = 'fold_' + str(fold))\\\n",
    "                                         .set_index('fold_index', append=True)\n",
    "        X_test_continuous = X_continuous.loc[test_vin_index]\\\n",
    "                                        .assign(fold_index = 'fold_' + str(fold))\\\n",
    "                                        .set_index('fold_index', append=True)\n",
    "                \n",
    "        y_train = y.loc[train_vin_index]\\\n",
    "                   .assign(fold_index = 'fold_' + str(fold))\\\n",
    "                   .set_index('fold_index', append=True) \n",
    "                \n",
    "        y_test = y.loc[test_vin_index]\\\n",
    "                  .assign(fold_index = 'fold_' + str(fold))\\\n",
    "                  .set_index('fold_index', append=True)\n",
    "\n",
    "        X_train_all = pd.concat([X_train_all,X_train_continuous])\n",
    "        X_test_all = pd.concat([X_test_all,X_test_continuous])\n",
    "        y_train_all = pd.concat([y_train_all,y_train])\n",
    "        y_test_all = pd.concat([y_test_all,y_test])\n",
    "        \n",
    "    assert X_train_all.shape[0] == y_train_all.shape[0]\n",
    "    assert X_test_all.shape[0] == y_test_all.shape[0]\n",
    "    \n",
    "    return X_train_all, X_test_all, y_train_all, y_test_all\n"
   ]
  },
  {
   "cell_type": "code",
   "execution_count": null,
   "metadata": {
    "collapsed": true
   },
   "outputs": [],
   "source": [
    "## all models first look"
   ]
  },
  {
   "cell_type": "code",
   "execution_count": null,
   "metadata": {
    "collapsed": true
   },
   "outputs": [],
   "source": [
    "def model_result(df):\n",
    "    # all models\n",
    "    x_train, x_test, y_train, y_test = return_data(df)\n",
    "\n",
    "    models = {}\n",
    "    parameters = {}\n",
    "\n",
    "    models['linear_model'] = linear_model.LinearRegression()\n",
    "    models['ridge_model'] = linear_model.Ridge()\n",
    "    models['lasso_model'] = linear_model.Lasso(alpha=2)\n",
    "    models['robust_regression'] = linear_model.SGDRegressor(loss='huber',n_iter=5)\n",
    "    models['eps_insensitive'] = linear_model.SGDRegressor(loss='epsilon_insensitive',n_iter=20)\n",
    "\n",
    "\n",
    "    models['cart'] = tree.DecisionTreeRegressor(max_depth=7)\n",
    "    models['extratrees'] = tree.ExtraTreeRegressor(max_depth=7)\n",
    "    models['randomForest'] = ensemble.RandomForestRegressor()\n",
    "    models['adaboostedTrees'] = ensemble.AdaBoostRegressor()\n",
    "    models['gradboostedTrees'] = ensemble.GradientBoostingRegressor()\n",
    "\n",
    "\n",
    "\n",
    "\n",
    "    selected_columns = x_train.filter(regex=(\"^(?!interior)\"),axis=1).columns\n",
    "\n",
    "    score_dict = {}\n",
    "    rmse_dict = {}\n",
    "    \n",
    "    for name,model in models.items():\n",
    "        test_scores = []\n",
    "        test_rmse = []\n",
    "        for i in range(1,6):\n",
    "            fold_name = 'fold_' + str(i)\n",
    "            x_train_fold = x_train.loc[x_train.index.get_level_values(1)==fold_name,selected_columns]\n",
    "            x_test_fold = x_test.loc[x_test.index.get_level_values(1)==fold_name,selected_columns]\n",
    "            y_train_fold = y_train.loc[y_train.index.get_level_values(1)==fold_name]\n",
    "            y_test_fold = y_test.loc[y_test.index.get_level_values(1)==fold_name]\n",
    "\n",
    "\n",
    "            first_model = model\n",
    "            first_model.fit(x_train_fold, y_train_fold.values.ravel())\n",
    "            test_scores.append(first_model.score(x_test_fold, y_test_fold))\n",
    "            prediction = first_model.predict(x_test_fold)\n",
    "  \n",
    "            test_rmse.append(np.sqrt(np.mean((prediction- y_test_fold['listPrice'])**2)))\n",
    "        print('Model: '+ name)\n",
    "\n",
    "        print(\"Score mean: \" + str(np.mean(test_scores)))\n",
    "        print(\"Score std: \" + str(np.std(test_scores)))\n",
    "        print(\"RMSE mean: \" + str(np.mean(test_rmse)))\n",
    "        print(\"RMSE std: \" + str(np.std(test_rmse)))\n",
    "        print()\n",
    "        score_dict[name] = test_scores\n",
    "        rmse_dict[name] = test_rmse\n",
    "        \n",
    "    return score_dict,rmse_dict\n"
   ]
  },
  {
   "cell_type": "code",
   "execution_count": null,
   "metadata": {},
   "outputs": [],
   "source": [
    "model1_score, model1_rmse = model_result(df)"
   ]
  },
  {
   "cell_type": "code",
   "execution_count": null,
   "metadata": {
    "scrolled": true
   },
   "outputs": [],
   "source": [
    "fig = plt.figure(figsize=(12,10))\n",
    "pd.DataFrame.from_dict(model1_score,orient='index').mean(axis=1).sort_values(ascending = False)[:7].sort_values().plot('barh')\n",
    "fig.savefig('model_score_comparison.png')\n"
   ]
  },
  {
   "cell_type": "code",
   "execution_count": null,
   "metadata": {},
   "outputs": [],
   "source": [
    "pd.DataFrame.from_dict(model1_score,orient='index').mean(axis=1).sort_values(ascending = False)"
   ]
  },
  {
   "cell_type": "code",
   "execution_count": null,
   "metadata": {},
   "outputs": [],
   "source": [
    "pd.DataFrame.from_dict(model1_rmse,orient='index').mean(axis=1).sort_values()"
   ]
  },
  {
   "cell_type": "code",
   "execution_count": null,
   "metadata": {
    "collapsed": true
   },
   "outputs": [],
   "source": [
    "# tune parameters"
   ]
  },
  {
   "cell_type": "code",
   "execution_count": null,
   "metadata": {
    "collapsed": true
   },
   "outputs": [],
   "source": [
    "def plot_overfit(df,model_obj,param_ranges,param_static=None): \n",
    "    x_train, x_test, y_train, y_test = return_data(df)\n",
    "\n",
    "    for parameter,parameter_range in param_ranges.items():\n",
    "        avg_train_score, avg_test_score = [],[]\n",
    "        std_train_score, std_test_score = [],[]\n",
    "        \n",
    "        for param_val in parameter_range:\n",
    "            param = {parameter:param_val}\n",
    "            if param_static:\n",
    "                param.update(param_static)\n",
    "            \n",
    "                \n",
    "            model = model_obj(**param)\n",
    "            selected_columns = x_train.filter(regex=(\"^(?!interior)\"),axis=1).columns\n",
    "         \n",
    "            train_scores,test_scores = [],[]\n",
    "            for i in range(1,6):\n",
    "                fold_name = 'fold_' + str(i)\n",
    "                x_train_fold = x_train.loc[x_train.index.get_level_values(1)==fold_name,selected_columns]\n",
    "                x_test_fold = x_test.loc[x_test.index.get_level_values(1)==fold_name,selected_columns]\n",
    "                y_train_fold = y_train.loc[y_train.index.get_level_values(1)==fold_name]\n",
    "                y_test_fold = y_test.loc[y_test.index.get_level_values(1)==fold_name]\n",
    "                \n",
    "                model.fit(x_train_fold[selected_columns], y_train_fold.values.ravel())\n",
    "                train_scores.append(model.score(x_train_fold,y_train_fold))\n",
    "                test_scores.append(model.score(x_test_fold,y_test_fold))\n",
    "                \n",
    "            avg_train_score.append(np.mean(train_scores))\n",
    "            #print(np.std(train_scores))\n",
    "            avg_test_score.append(np.mean(test_scores))\n",
    "            #print(np.std(test_scores))\n",
    "            \n",
    "            std_train_score.append(np.std(train_scores))\n",
    "            std_test_score.append(np.std(test_scores))     \n",
    "\n",
    "            \n",
    "        fig,ax = plt.subplots()\n",
    "        ax.errorbar(parameter_range,avg_train_score,yerr=std_train_score,label='training score')\n",
    "        ax.errorbar(parameter_range,avg_test_score,yerr=std_test_score,label='testing score')\n",
    "        \n",
    "        ax.set_xlabel(parameter)\n",
    "        ax.set_ylabel('score')\n",
    "        ax.legend(loc=0)"
   ]
  },
  {
   "cell_type": "code",
   "execution_count": null,
   "metadata": {},
   "outputs": [],
   "source": [
    "plot_overfit(df,ensemble.RandomForestRegressor,{'max_features':range(10,20)}) # either 12 or 14"
   ]
  },
  {
   "cell_type": "code",
   "execution_count": null,
   "metadata": {},
   "outputs": [],
   "source": [
    "plot_overfit(df, ensemble.RandomForestRegressor,{'min_samples_leaf': range(1,10,1)}\\\n",
    "            ,param_static={'max_features':14}) "
   ]
  },
  {
   "cell_type": "code",
   "execution_count": null,
   "metadata": {},
   "outputs": [],
   "source": [
    "plot_overfit(df, ensemble.RandomForestRegressor,{'n_estimators': [1,5,10,20,30,50,100,200,300,500,1000]}\\\n",
    "            ,param_static={'max_features':14, 'min_samples_leaf':2,'min_samples_split':7}) "
   ]
  },
  {
   "cell_type": "code",
   "execution_count": null,
   "metadata": {},
   "outputs": [],
   "source": [
    "plot_overfit(df,ensemble.GradientBoostingRegressor,{'max_features':range(1,20)}) # set around 8 or 13"
   ]
  },
  {
   "cell_type": "code",
   "execution_count": null,
   "metadata": {},
   "outputs": [],
   "source": [
    "plot_overfit(df,ensemble.GradientBoostingRegressor,{'min_samples_leaf':range(1,10)})"
   ]
  },
  {
   "cell_type": "code",
   "execution_count": null,
   "metadata": {},
   "outputs": [],
   "source": [
    "plot_overfit(df,ensemble.GradientBoostingRegressor,{'max_depth':range(1,10)}) # max_depth around 7"
   ]
  },
  {
   "cell_type": "code",
   "execution_count": null,
   "metadata": {},
   "outputs": [],
   "source": [
    "plot_overfit(df,ensemble.GradientBoostingRegressor,{'n_estimators':[1,5,10,20,30,50,100,200,300,500,1000]}) # 500 looks good"
   ]
  },
  {
   "cell_type": "code",
   "execution_count": null,
   "metadata": {},
   "outputs": [],
   "source": [
    "plot_overfit(df,ensemble.GradientBoostingRegressor,{'n_estimators':[1,5,10,20,30,50,100,200,300,400,500,1000]}\\\n",
    "             ,param_static={'learning_rate':0.15, 'min_samples_split':200, \\\n",
    "                            'min_samples_leaf' :40, 'max_depth' : 6, 'max_features' : 'sqrt',\\\n",
    "                            'subsample' : 0.8})"
   ]
  },
  {
   "cell_type": "code",
   "execution_count": null,
   "metadata": {},
   "outputs": [],
   "source": [
    "plot_overfit(df,ensemble.GradientBoostingRegressor,{'subsample':np.arange(0.2,0.99,0.1)}\\\n",
    "             ,param_static={'learning_rate':0.15,'max_depth': 13, \\\n",
    "                             'max_features':12 \\\n",
    "                             ,'n_estimators':200,'min_samples_split':70,'min_samples_leaf':20})"
   ]
  },
  {
   "cell_type": "code",
   "execution_count": null,
   "metadata": {
    "collapsed": true
   },
   "outputs": [],
   "source": [
    "# Model Result"
   ]
  },
  {
   "cell_type": "code",
   "execution_count": null,
   "metadata": {
    "collapsed": true
   },
   "outputs": [],
   "source": [
    "# helper function that plot model result\n",
    "def plot_model_result(df, model):\n",
    "    x_train, x_test, y_train, y_test = return_data(df)\n",
    "        \n",
    "    #Predict training set:\n",
    "    selected_columns = x_train.filter(regex=(\"^(?!interior)\"),axis=1).columns\n",
    "\n",
    "\n",
    "    test_scores = []\n",
    "    test_rmse = []\n",
    "    for i in range(1,6):\n",
    "        fold_name = 'fold_' + str(i)\n",
    "        x_train_fold = x_train.loc[x_train.index.get_level_values(1)==fold_name,selected_columns]\n",
    "        x_test_fold = x_test.loc[x_test.index.get_level_values(1)==fold_name,selected_columns]\n",
    "        y_train_fold = y_train.loc[y_train.index.get_level_values(1)==fold_name]\n",
    "        y_test_fold = y_test.loc[y_test.index.get_level_values(1)==fold_name]\n",
    "\n",
    "\n",
    "        first_model = model\n",
    "        first_model.fit(x_train_fold, y_train_fold.values.ravel())\n",
    "        test_scores.append(first_model.score(x_test_fold, y_test_fold))\n",
    "        prediction = first_model.predict(x_test_fold)\n",
    "\n",
    "        test_rmse.append(np.sqrt(np.mean((prediction- y_test_fold['listPrice'])**2)))\n",
    "\n",
    "    print(\"Score mean: \" + str(np.mean(test_scores)))\n",
    "    print(\"Score std: \" + str(np.std(test_scores)))\n",
    "    print(\"RMSE mean: \" + str(np.mean(test_rmse)))\n",
    "    print(\"RMSE std: \" + str(np.std(test_rmse)))\n",
    "    print()\n",
    "    \n",
    "    plt.figure(figsize=(15,10))\n",
    "    feat_imp = pd.Series(first_model.feature_importances_, selected_columns).sort_values(ascending=True)\n",
    "    feat_imp.plot(kind='barh', title='Feature Importances')\n",
    "    plt.ylabel('Feature Importance Score')\n",
    "    return first_model.feature_importances_,selected_columns\n",
    "\n"
   ]
  },
  {
   "cell_type": "code",
   "execution_count": null,
   "metadata": {},
   "outputs": [],
   "source": [
    "randomforest_feature_importance, randomforest_columns = plot_model_result(df, ensemble.RandomForestRegressor(min_samples_split=7, \\\n",
    "                                           min_samples_leaf = 2, max_depth = 13, max_features = 14,\\\n",
    "                                           n_estimators=200))\n"
   ]
  },
  {
   "cell_type": "code",
   "execution_count": null,
   "metadata": {},
   "outputs": [],
   "source": [
    "fig = plt.figure(figsize=(15,10))\n",
    "feat_imp = pd.Series(randomforest_feature_importance, randomforest_columns).sort_values(ascending=True)\n",
    "feat_imp.plot(kind='barh', title='Feature Importances')\n",
    "plt.ylabel('Feature Importance Score')\n",
    "fig.savefig('randomforest_score_comparison.png')\n",
    "\n"
   ]
  },
  {
   "cell_type": "code",
   "execution_count": null,
   "metadata": {
    "collapsed": true
   },
   "outputs": [],
   "source": []
  },
  {
   "cell_type": "code",
   "execution_count": null,
   "metadata": {},
   "outputs": [],
   "source": [
    "grad_importance, grad_columns = plot_model_result(df, ensemble.GradientBoostingRegressor(learning_rate=0.15/3.0, min_samples_split=70, \\\n",
    "                                           min_samples_leaf = 20, max_depth = 13, max_features = 12,\\\n",
    "                                           subsample = 0.8,n_estimators=int(200*3.0)))\n"
   ]
  },
  {
   "cell_type": "code",
   "execution_count": null,
   "metadata": {},
   "outputs": [],
   "source": [
    "fig = plt.figure(figsize=(15,10))\n",
    "feat_imp = pd.Series(grad_importance, grad_columns).sort_values(ascending=True)\n",
    "feat_imp.plot(kind='barh', title='Feature Importances')\n",
    "plt.ylabel('Feature Importance Score')\n",
    "fig.savefig('gradient_score_comparison.png')\n",
    "\n"
   ]
  },
  {
   "cell_type": "code",
   "execution_count": null,
   "metadata": {
    "collapsed": true
   },
   "outputs": [],
   "source": [
    "# interpret the gradient boosting data"
   ]
  },
  {
   "cell_type": "code",
   "execution_count": null,
   "metadata": {
    "collapsed": true
   },
   "outputs": [],
   "source": [
    "selected_columns3 = X_cont.filter(regex=(\"^(?!interior)\"),axis=1).columns\n",
    "model3 = ensemble.GradientBoostingRegressor(learning_rate=0.15/3.0, min_samples_split=70, \\\n",
    "                                           min_samples_leaf = 20, max_depth = 13, max_features = 12,\\\n",
    "                                           subsample = 0.8,n_estimators=int(200*3.0))\n",
    "\n",
    "model3.fit(X_train_cont[selected_columns3],Y_train.values.ravel())\n",
    "test_set_pred3 = model3.predict(X_test_cont[selected_columns3])\n",
    "scores = model3.score(X_test_cont[selected_columns3],Y_test)\n",
    "rmse = np.sqrt(np.mean((test_set_pred3 - np.array(Y_test))**2))\n",
    "\n",
    "\n",
    "\n"
   ]
  },
  {
   "cell_type": "code",
   "execution_count": null,
   "metadata": {},
   "outputs": [],
   "source": [
    "fig = plt.figure(figsize=(10,10))\n",
    "\n",
    "plt.scatter(Y_test, test_set_pred3,alpha=.1)\n",
    "plt.plot(np.linspace(0,250000,1000),np.linspace(0,250000,1000), color = 'red')\n",
    "plt.ylabel('predicted price')\n",
    "plt.xlabel('listed price')\n",
    "fig.savefig('predicted_value_check.png')\n",
    "\n"
   ]
  },
  {
   "cell_type": "code",
   "execution_count": null,
   "metadata": {
    "collapsed": true
   },
   "outputs": [],
   "source": [
    "import ml_insights as mli\n",
    "mxr = mli.ModelXRay(model3,X_test_cont[selected_columns3])\n"
   ]
  },
  {
   "cell_type": "code",
   "execution_count": null,
   "metadata": {},
   "outputs": [],
   "source": [
    "fig = plt.figure()\n",
    "\n",
    "indices_diag = mxr.feature_dependence_plots(num_pts=7) # give a sense of importance of different variables\n",
    "fig.savefig('interpretation.png')\n"
   ]
  }
 ],
 "metadata": {
  "kernelspec": {
   "display_name": "py35",
   "language": "python",
   "name": "py35"
  },
  "language_info": {
   "codemirror_mode": {
    "name": "ipython",
    "version": 3
   },
   "file_extension": ".py",
   "mimetype": "text/x-python",
   "name": "python",
   "nbconvert_exporter": "python",
   "pygments_lexer": "ipython3",
   "version": "3.5.3"
  }
 },
 "nbformat": 4,
 "nbformat_minor": 2
}
