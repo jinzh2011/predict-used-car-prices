{
 "cells": [
  {
   "cell_type": "code",
   "execution_count": null,
   "metadata": {
    "collapsed": true
   },
   "outputs": [],
   "source": [
    "# Author: Jin Zhang"
   ]
  },
  {
   "cell_type": "code",
   "execution_count": null,
   "metadata": {
    "collapsed": true
   },
   "outputs": [],
   "source": [
    "from __future__ import print_function, division"
   ]
  },
  {
   "cell_type": "code",
   "execution_count": null,
   "metadata": {
    "collapsed": true
   },
   "outputs": [],
   "source": [
    "import json\n",
    "import os\n",
    "import pandas as pd\n",
    "#from collections import Counter\n",
    "import numpy as np\n",
    "import re \n",
    "% matplotlib inline\n"
   ]
  },
  {
   "cell_type": "code",
   "execution_count": null,
   "metadata": {
    "collapsed": true
   },
   "outputs": [],
   "source": [
    "pd.set_option('display.max_columns', 500)\n",
    "pd.options.display.float_format = '{:,.3f}'.format"
   ]
  },
  {
   "cell_type": "code",
   "execution_count": null,
   "metadata": {
    "collapsed": true
   },
   "outputs": [],
   "source": [
    "master_json_file = './data/consolidated/master_listing.json'\n",
    "with open(master_json_file, 'r') as fp:\n",
    "    master_dict = json.load(fp)"
   ]
  },
  {
   "cell_type": "code",
   "execution_count": null,
   "metadata": {
    "collapsed": true
   },
   "outputs": [],
   "source": [
    "master_df = pd.DataFrame.from_dict(master_dict, orient='index')"
   ]
  },
  {
   "cell_type": "code",
   "execution_count": null,
   "metadata": {},
   "outputs": [],
   "source": [
    "master_df.info()"
   ]
  },
  {
   "cell_type": "code",
   "execution_count": null,
   "metadata": {
    "collapsed": true
   },
   "outputs": [],
   "source": [
    "car_json_file = './data/consolidated/car_listing.json'\n",
    "with open(car_json_file, 'r') as fp:\n",
    "    car_dict = json.load(fp)"
   ]
  },
  {
   "cell_type": "code",
   "execution_count": null,
   "metadata": {
    "collapsed": true
   },
   "outputs": [],
   "source": [
    "car_df = pd.DataFrame.from_dict(car_dict, orient='index')\n",
    "car_df = car_df.drop('bodyStyle', 1)\n"
   ]
  },
  {
   "cell_type": "code",
   "execution_count": null,
   "metadata": {},
   "outputs": [],
   "source": [
    "car_df.head()"
   ]
  },
  {
   "cell_type": "code",
   "execution_count": null,
   "metadata": {
    "collapsed": true
   },
   "outputs": [],
   "source": [
    "# merge data"
   ]
  },
  {
   "cell_type": "code",
   "execution_count": null,
   "metadata": {
    "collapsed": true
   },
   "outputs": [],
   "source": [
    "df = car_df.merge(master_df,left_index = True, right_index = True, how = 'left')\n",
    "df = df[df.index != 'null']"
   ]
  },
  {
   "cell_type": "code",
   "execution_count": null,
   "metadata": {},
   "outputs": [],
   "source": [
    "df.info()"
   ]
  },
  {
   "cell_type": "code",
   "execution_count": null,
   "metadata": {
    "collapsed": true
   },
   "outputs": [],
   "source": [
    "# delete car make that has too small observations - either too expensive or not manufacturing anymore\n",
    "# cut off is 20 observations"
   ]
  },
  {
   "cell_type": "code",
   "execution_count": null,
   "metadata": {
    "collapsed": true
   },
   "outputs": [],
   "source": [
    "df['make_count'] = df.groupby(['make'])['listPrice'].transform('count')"
   ]
  },
  {
   "cell_type": "code",
   "execution_count": null,
   "metadata": {},
   "outputs": [],
   "source": [
    "df = df[df.make_count>=20]"
   ]
  },
  {
   "cell_type": "code",
   "execution_count": null,
   "metadata": {
    "collapsed": true
   },
   "outputs": [],
   "source": [
    "# Clean variables "
   ]
  },
  {
   "cell_type": "code",
   "execution_count": null,
   "metadata": {},
   "outputs": [],
   "source": [
    "driveTraindict = {'Four Wheel Drive':'AWD/4WD',\n",
    "                  'Rear-Wheel Drive':'RWD',\n",
    "                  'Front Wheel Drive':'FWD',\n",
    "                  'Front-wheel Drive':'FWD',\n",
    "                  'F':'FWD',\n",
    "                  'All Wheel Drive':'AWD/4WD',\n",
    "                  'All-wheel Drive':'AWD/4WD',\n",
    "                  'quattro':'AWD/4WD',\n",
    "                  'Rear Wheel Drive':'RWD',\n",
    "                  'AWD':'AWD/4WD',\n",
    "                  '4WD':'AWD/4WD',\n",
    "                  ' ':'FWD',\n",
    "                  'FWD':'FWD',\n",
    "                  'RWD':'RWD'\n",
    "                      }\n",
    "df['driveTrain_clean'] = df['driveTrain'].map(driveTraindict)\n",
    "df.driveTrain_clean.unique()\n",
    "                      \n"
   ]
  },
  {
   "cell_type": "code",
   "execution_count": null,
   "metadata": {
    "collapsed": true
   },
   "outputs": [],
   "source": [
    "def get_transmission_type(transmission_list):\n",
    "    result = []\n",
    "    for item in transmission_list:\n",
    "        lower_item = item.lower()\n",
    "        if any(i in lower_item for i in ['cvt','continuously','continously']):\n",
    "            result.append('CVT')\n",
    "        elif any(i in lower_item for i in ['auto-shift manual','7-speed smg']):\n",
    "            result.append('Semi-Auto')\n",
    "        elif any(i in lower_item for i in ['automatic','auto','a/t','variable','6-speed','rental','4-speed','7-speed','5-speed tiptronic'])\\\n",
    "             or lower_item == 'a':\n",
    "            result.append('Automatic')\n",
    "        elif any(i in lower_item for i in ['manual','m/t','manuel']) or lower_item == 'm':\n",
    "            result.append('Manual')\n",
    "        elif any(i in lower_item for i in ['dual clutch','dual-clutch','double-clutch','7-speed porsche doppelkupplung']):\n",
    "            result.append('Dual Clutch')\n",
    "        elif any(i in lower_item for i in ['single-speed','single speed','not determined','1-speed']):\n",
    "            result.append('Single Speed')\n",
    "        else:\n",
    "            result.append('N/A')\n",
    "    return result\n",
    "\n"
   ]
  },
  {
   "cell_type": "code",
   "execution_count": null,
   "metadata": {},
   "outputs": [],
   "source": [
    "df['transmission_clean'] = get_transmission_type(df.transmission)\n",
    "df['transmission_clean'].unique()"
   ]
  },
  {
   "cell_type": "code",
   "execution_count": null,
   "metadata": {
    "collapsed": true
   },
   "outputs": [],
   "source": [
    "def get_engine_cyl_type(engine_list):\n",
    "    result = []\n",
    "    for item in engine_list:\n",
    "        lower_item = item.lower()\n",
    "        if any(i in lower_item for i in ['3 cyl','i3','i-3','3 cylinders']):\n",
    "            result.append(3)\n",
    "        elif any(i in lower_item for i in ['4 cyl','i-4','4 cylinders','i4','4-cyl','4 cylinder','l4','h-4','flat 4']):\n",
    "            result.append(4)\n",
    "        elif any(i in lower_item for i in ['v16','16 cylinders','v-16','16v']):\n",
    "            result.append(16)\n",
    "        elif any(i in lower_item for i in ['5 cyl','5 cylinders','5-cyl','5 cylinder','i-5','i5']) or lower_item == '5':\n",
    "            result.append(5)\n",
    "        elif any(i in lower_item for i in ['6 cyl','6 cylinders','v-6','v6','6-cyl','i6','h-6','i-6','flat 6','inline 6']):\n",
    "            result.append(6)\n",
    "        elif any(i in lower_item for i in ['8 cyl','8 cylinders','v8','v-8']):\n",
    "            result.append(8)\n",
    "        elif any(i in lower_item for i in ['10 cyl','10 cylinders','v-10','v10']):\n",
    "            result.append(10)\n",
    "        elif any(i in lower_item for i in ['v12','12 cylinders','v-12']):\n",
    "            result.append(12)\n",
    "        elif any(i in lower_item for i in ['react-text','not determined']):\n",
    "            result.append(0)\n",
    "        else:\n",
    "            result.append(np.nan)\n",
    "    return result"
   ]
  },
  {
   "cell_type": "code",
   "execution_count": null,
   "metadata": {
    "collapsed": true
   },
   "outputs": [],
   "source": [
    "df['engine_cyl_clean'] = get_engine_cyl_type(df.engine)"
   ]
  },
  {
   "cell_type": "code",
   "execution_count": null,
   "metadata": {
    "collapsed": true
   },
   "outputs": [],
   "source": [
    "df.loc[pd.isnull(df.engine_cyl_clean) & df.make.isin(['Cadillac','Buick']),'engine_cyl_clean'] = 4.0\n",
    "df.loc[pd.isnull(df.engine_cyl_clean) & df.make.isin(['Volkswagen']),'engine_cyl_clean'] = 5.0\n",
    "df.loc[pd.isnull(df.engine_cyl_clean) & df.make.isin(['Kia']) & df.make.isin(['Soul']),'engine_cyl_clean'] = 4.0\n",
    "df.loc[pd.isnull(df.engine_cyl_clean),'engine_cyl_clean'] = 0.0\n"
   ]
  },
  {
   "cell_type": "code",
   "execution_count": null,
   "metadata": {},
   "outputs": [],
   "source": [
    "df['engine_cyl_clean'].unique()"
   ]
  },
  {
   "cell_type": "code",
   "execution_count": null,
   "metadata": {
    "collapsed": true
   },
   "outputs": [],
   "source": [
    "def get_engine_fuel_type(engine_list):\n",
    "    result = []\n",
    "    for item in engine_list:\n",
    "        lower_item = item.lower()\n",
    "        if any(i in lower_item for i in ['gas/electric','hybrid']):\n",
    "            result.append('Hybrid')\n",
    "        elif any(i in lower_item for i in ['natural']):\n",
    "            result.append('Natural_gas')\n",
    "        elif any(i in lower_item for i in ['diesel']):\n",
    "            result.append('Diesel')\n",
    "        elif any(i in lower_item for i in ['flex fuel']):\n",
    "            result.append('Flex')\n",
    "        elif any(i in lower_item for i in ['electric','react-text']):\n",
    "            result.append('Electric')\n",
    "        elif any(i in lower_item for i in ['not determined']):\n",
    "            result.append(np.nan)\n",
    "            \n",
    "        else:\n",
    "            result.append('Gas')\n",
    "    return result"
   ]
  },
  {
   "cell_type": "code",
   "execution_count": null,
   "metadata": {
    "collapsed": true
   },
   "outputs": [],
   "source": [
    "df['engine_fuel_type_clean'] = df['fuelType']\n",
    "\n",
    "df.loc[pd.isnull(df.fuelType),'engine_fuel_type_clean'] = get_engine_fuel_type(df[pd.isnull(df.fuelType)]['engine'])"
   ]
  },
  {
   "cell_type": "code",
   "execution_count": null,
   "metadata": {
    "collapsed": true
   },
   "outputs": [],
   "source": [
    "df.loc[pd.isnull(df.engine_fuel_type_clean) & df.make.isin(['Subaru','Porsche']),'engine_fuel_type_clean'] = 'Gas'\n",
    "df.loc[pd.isnull(df.engine_fuel_type_clean) & (~df.make.isin(['Subaru','Porsche'])),'engine_fuel_type_clean'] = 'Electric'\n",
    "df = df[df.engine_fuel_type_clean !='Propane']\n",
    "df.loc[df.make.isin(['Chevrolet']) & df.model.isin(['Volt']),'engine_fuel_type_clean'] = 'Hybrid'\n",
    "df.loc[df.make.isin(['Toyota']) & df.model.isin(['RAV4 EV']),'engine_fuel_type_clean'] = 'Electric'\n",
    "df.loc[df.make.isin(['FIAT']) & df.model.isin(['500e BATTERY ELECTRIC']),'engine_fuel_type_clean'] = 'Electric'\n",
    "df.loc[df.make.isin(['Ford']) & df.model.isin(['Fusion Energi']),'engine_fuel_type_clean'] = 'Hybrid'\n",
    "df.loc[df.make.isin(['Tesla']),'engine_fuel_type_clean'] = 'Electric'\n",
    "df.loc[df.make.isin(['BMW']) & df.model.isin(['i3']),'engine_fuel_type_clean'] = 'Electric'\n"
   ]
  },
  {
   "cell_type": "code",
   "execution_count": null,
   "metadata": {},
   "outputs": [],
   "source": [
    "df.engine_fuel_type_clean.unique()"
   ]
  },
  {
   "cell_type": "code",
   "execution_count": null,
   "metadata": {
    "collapsed": true
   },
   "outputs": [],
   "source": [
    "df['engine_turbo_clean'] = ['turbo' in x.lower() for x in df.engine]\n",
    "df['engine_super_clean'] = ['super' in x.lower() for x in df.engine]\n",
    "\n",
    "df[['engine_turbo_clean','engine_super_clean']] = df[['engine_turbo_clean','engine_super_clean']].astype(int)"
   ]
  },
  {
   "cell_type": "code",
   "execution_count": null,
   "metadata": {
    "collapsed": true
   },
   "outputs": [],
   "source": [
    "df.loc[df.mpgCity=='N/A','mpgCity'] = np.nan\n",
    "df.loc[df.mpgHwy=='N/A','mpgHwy'] = np.nan\n",
    "df[['mpgCity_clean','mpgHwy_clean']] = df.groupby(['make','model','year'])['mpgCity','mpgHwy'].transform(lambda x: x.fillna(x.mean()))\n",
    "df[['mpgCity_clean','mpgHwy_clean']] = df.groupby(['make','model'])['mpgCity','mpgHwy'].transform(lambda x: x.fillna(x.mean()))"
   ]
  },
  {
   "cell_type": "code",
   "execution_count": null,
   "metadata": {
    "collapsed": true
   },
   "outputs": [],
   "source": [
    "df.loc[pd.isnull(df.mpgCity_clean) & df.engine_fuel_type_clean.isin(['Electric']),\\\n",
    "       ['mpgCity_clean','mpgHwy_clean']] = [300.0,300.0]\n",
    "df.loc[pd.isnull(df.mpgCity_clean) & df.make.isin(['Jeep']),\\\n",
    "       ['mpgCity_clean','mpgHwy_clean']] = [19.0,26.0]\n",
    "df.loc[pd.isnull(df.mpgCity_clean) & df.make.isin(['Dodge']),\\\n",
    "       ['mpgCity_clean','mpgHwy_clean']] = [16.0,22.0]\n",
    "df.loc[pd.isnull(df.mpgCity_clean) & df.make.isin(['Ford']) & df.model.isin(['Transit Wagon','Expedition EL']),\\\n",
    "       ['mpgCity_clean','mpgHwy_clean']] = [15.0,19.0]\n",
    "df.loc[pd.isnull(df.mpgCity_clean) & df.make.isin(['Ford']) & df.model.isin(['F-150']),\\\n",
    "       ['mpgCity_clean','mpgHwy_clean']] = [19.0,26.0]\n",
    "df.loc[pd.isnull(df.mpgCity_clean) & df.make.isin(['Ford']),\\\n",
    "       ['mpgCity_clean','mpgHwy_clean']] = [10.0,10.0]\n",
    "df.loc[pd.isnull(df.mpgCity_clean) & df.make.isin(['Cadillac']),\\\n",
    "       ['mpgCity_clean','mpgHwy_clean']] = [13.0,19.0]\n",
    "df.loc[pd.isnull(df.mpgCity_clean) & df.make.isin(['Chevrolet']) & df.model.isin(['Malibu','Malibu Limited']),\\\n",
    "       ['mpgCity_clean','mpgHwy_clean']] = [27.0,36.0]\n",
    "df.loc[pd.isnull(df.mpgCity_clean) & df.make.isin(['Chevrolet']) & df.model.isin(['Camaro']),\\\n",
    "       ['mpgCity_clean','mpgHwy_clean']] = [22.0,31.0]\n",
    "df.loc[pd.isnull(df.mpgCity_clean) & df.make.isin(['Chevrolet']) & df.model.isin(['Express Cargo Van']),\\\n",
    "       ['mpgCity_clean','mpgHwy_clean']] = [11.0,17.0]\n",
    "df.loc[pd.isnull(df.mpgCity_clean) & df.make.isin(['Chevrolet']) & df.model.isin(['Suburban']),\\\n",
    "       ['mpgCity_clean','mpgHwy_clean']] = [16.0,23.0]\n",
    "df.loc[pd.isnull(df.mpgCity_clean) & df.make.isin(['Chevrolet']),\\\n",
    "       ['mpgCity_clean','mpgHwy_clean']] = [12.0,12.0]\n",
    "df.loc[pd.isnull(df.mpgCity_clean) & df.make.isin(['GMC']) & df.model.isin(['Savana Cargo Van']),\\\n",
    "       ['mpgCity_clean','mpgHwy_clean']] = [11.0,17.0]\n",
    "df.loc[pd.isnull(df.mpgCity_clean) & df.make.isin(['GMC']),\\\n",
    "       ['mpgCity_clean','mpgHwy_clean']] = [13.0,13.0]\n",
    "df.loc[pd.isnull(df.mpgCity_clean) & df.make.isin(['Honda']),\\\n",
    "       ['mpgCity_clean','mpgHwy_clean']] = [27.0,38.0]\n",
    "df.loc[pd.isnull(df.mpgCity_clean) & df.make.isin(['Nissan']),\\\n",
    "       ['mpgCity_clean','mpgHwy_clean']] = [10.0,13.0]\n",
    "df.loc[pd.isnull(df.mpgCity_clean) & df.make.isin(['Volkswagen']),\\\n",
    "       ['mpgCity_clean','mpgHwy_clean']] = [23.0,34.0]\n",
    "df.loc[pd.isnull(df.mpgCity_clean) & df.make.isin(['Buick']),\\\n",
    "       ['mpgCity_clean','mpgHwy_clean']] = [21.0,29.0]\n",
    "df.loc[pd.isnull(df.mpgCity_clean) & df.make.isin(['Lincoln']),\\\n",
    "       ['mpgCity_clean','mpgHwy_clean']] = [16.0,24.0]\n",
    "df.loc[pd.isnull(df.mpgCity_clean) & df.make.isin(['Toyota']),\\\n",
    "       ['mpgCity_clean','mpgHwy_clean']] = [78.0,74.0]\n",
    "df.loc[pd.isnull(df.mpgCity_clean) & df.make.isin(['Ram']) & df.model.isin(['ProMaster Cargo Van']),\\\n",
    "       ['mpgCity_clean','mpgHwy_clean']] = [16.0,18.0]\n",
    "df.loc[pd.isnull(df.mpgCity_clean) & df.make.isin(['Ram']),\\\n",
    "       ['mpgCity_clean','mpgHwy_clean']] = [13.0,13.0]\n",
    "df.loc[pd.isnull(df.mpgCity_clean) & df.make.isin(['Mitsubishi']) & df.model.isin(['Galant']),\\\n",
    "       ['mpgCity_clean','mpgHwy_clean']] = [21.0,30.0]\n",
    "df.loc[pd.isnull(df.mpgCity_clean) & df.make.isin(['Mitsubishi']) & df.model.isin(['Lancer Evolution']),\\\n",
    "       ['mpgCity_clean','mpgHwy_clean']] = [21.0,30.0]\n",
    "df.loc[pd.isnull(df.mpgCity_clean) & df.make.isin(['Audi']) & df.model.isin(['A3 Sportback e-tron']),\\\n",
    "       ['mpgCity_clean','mpgHwy_clean']] = [61.0,87.0]\n",
    "df.loc[pd.isnull(df.mpgCity_clean) & df.make.isin(['Audi']) & df.model.isin(['A4']),\\\n",
    "       ['mpgCity_clean','mpgHwy_clean']] = [27.0,37.0]\n",
    "df.loc[pd.isnull(df.mpgCity_clean) & df.make.isin(['Audi']) & df.model.isin(['RS6']),\\\n",
    "       ['mpgCity_clean','mpgHwy_clean']] = [15.0,22.0]\n",
    "df.loc[pd.isnull(df.mpgCity_clean) & df.make.isin(['BMW']) & df.model.isin(['1 Series']),\\\n",
    "       ['mpgCity_clean','mpgHwy_clean']] = [20.0,28.0]\n",
    "df.loc[pd.isnull(df.mpgCity_clean) & df.make.isin(['BMW']) & df.model.isin(['3 Series']),\\\n",
    "       ['mpgCity_clean','mpgHwy_clean']] = [31.0,43.0]\n",
    "df.loc[pd.isnull(df.mpgCity_clean) & df.make.isin(['BMW']) & df.model.isin(['6 Series']),\\\n",
    "       ['mpgCity_clean','mpgHwy_clean']] = [21.0,30.0]\n",
    "df.loc[pd.isnull(df.mpgCity_clean) & df.make.isin(['BMW']) & df.model.isin(['M5','M6']),\\\n",
    "       ['mpgCity_clean','mpgHwy_clean']] = [15.0,22.0]\n",
    "df.loc[pd.isnull(df.mpgCity_clean) & df.make.isin(['BMW']) & df.model.isin(['X5 eDrive']),\\\n",
    "       ['mpgCity_clean','mpgHwy_clean']] = [31.0,50.0]\n",
    "df.loc[pd.isnull(df.mpgCity_clean) & df.make.isin(['BMW']) & df.model.isin(['i8']),\\\n",
    "       ['mpgCity_clean','mpgHwy_clean']] = [76.0,76.0]\n",
    "df.loc[pd.isnull(df.mpgCity_clean) & df.make.isin(['INFINITI']) & df.model.isin(['G37 Coupe']),\\\n",
    "       ['mpgCity_clean','mpgHwy_clean']] = [19.0,27.0]\n",
    "df.loc[pd.isnull(df.mpgCity_clean) & df.make.isin(['Kia']) & df.model.isin(['Soul']),\\\n",
    "       ['mpgCity_clean','mpgHwy_clean']] = [26.0,31.0]\n",
    "df.loc[pd.isnull(df.mpgCity_clean) & df.make.isin(['Lexus']) & df.model.isin(['ES 300']),\\\n",
    "       ['mpgCity_clean','mpgHwy_clean']] = [21.0,29.0]\n",
    "df.loc[pd.isnull(df.mpgCity_clean) & df.make.isin(['MINI']) & df.model.isin(['Cooper Paceman']),\\\n",
    "       ['mpgCity_clean','mpgHwy_clean']] = [27.0,32.0]\n",
    "df.loc[pd.isnull(df.mpgCity_clean) & df.make.isin(['Mazda']) & df.model.isin(['MAZDA5']),\\\n",
    "       ['mpgCity_clean','mpgHwy_clean']] = [21.0,28.0]\n",
    "df.loc[pd.isnull(df.mpgCity_clean) & df.make.isin(['Mazda']) & df.model.isin(['Mazda3']),\\\n",
    "       ['mpgCity_clean','mpgHwy_clean']] = [28.0,37.0]\n",
    "df.loc[pd.isnull(df.mpgCity_clean) & df.make.isin(['Mazda']) & df.model.isin(['RX-8']),\\\n",
    "       ['mpgCity_clean','mpgHwy_clean']] = [16.0,23.0]\n",
    "df.loc[pd.isnull(df.mpgCity_clean) & df.make.isin(['Mercedes-Benz']) & df.model.isin(['C-Class']),\\\n",
    "       ['mpgCity_clean','mpgHwy_clean']] = [24.0,34.0]\n",
    "df.loc[pd.isnull(df.mpgCity_clean) & df.make.isin(['Mercedes-Benz']) & df.model.isin(['CLS']),\\\n",
    "       ['mpgCity_clean','mpgHwy_clean']] = [18.0,26.0]\n",
    "df.loc[pd.isnull(df.mpgCity_clean) & df.make.isin(['Mercedes-Benz']) & df.model.isin(['GLC']),\\\n",
    "       ['mpgCity_clean','mpgHwy_clean']] = [22.0,27.0]\n",
    "df.loc[pd.isnull(df.mpgCity_clean) & df.make.isin(['Mercedes-Benz']) & df.model.isin(['GLC']),\\\n",
    "       ['mpgCity_clean','mpgHwy_clean']] = [22.0,27.0]\n",
    "df.loc[pd.isnull(df.mpgCity_clean) & df.make.isin(['Mercedes-Benz']),\\\n",
    "       ['mpgCity_clean','mpgHwy_clean']] = [16.0,20.0]\n",
    "df.loc[pd.isnull(df.mpgCity_clean) & df.make.isin(['Porsche']) & df.model.isin(['718 Boxster','Boxster']),\\\n",
    "       ['mpgCity_clean','mpgHwy_clean']] = [21.0,28.0]\n",
    "df.loc[pd.isnull(df.mpgCity_clean) & df.make.isin(['Porsche']) & df.model.isin(['911']),\\\n",
    "       ['mpgCity_clean','mpgHwy_clean']] = [22.0,30.0]\n",
    "df.loc[pd.isnull(df.mpgCity_clean) & df.make.isin(['Porsche']) & df.model.isin(['Cayenne']),\\\n",
    "       ['mpgCity_clean','mpgHwy_clean']] = [20.0,24.0]\n",
    "df.loc[pd.isnull(df.mpgCity_clean) & df.make.isin(['Subaru']),\\\n",
    "       ['mpgCity_clean','mpgHwy_clean']] = [20.0,27.0]\n",
    "df.loc[pd.isnull(df.mpgCity_clean) & df.make.isin(['Volvo']),\\\n",
    "       ['mpgCity_clean','mpgHwy_clean']] = [19.0,28.0]"
   ]
  },
  {
   "cell_type": "code",
   "execution_count": null,
   "metadata": {},
   "outputs": [],
   "source": [
    "df[['mpgCity_clean','mpgHwy_clean']] = df[['mpgCity_clean','mpgHwy_clean']].astype('float')\n",
    "df[['mpgCity_clean','mpgHwy_clean']].describe()"
   ]
  },
  {
   "cell_type": "code",
   "execution_count": null,
   "metadata": {
    "scrolled": true
   },
   "outputs": [],
   "source": [
    "df.describe()"
   ]
  },
  {
   "cell_type": "code",
   "execution_count": null,
   "metadata": {
    "collapsed": true
   },
   "outputs": [],
   "source": [
    "def get_body_style(body_list):\n",
    "    result = []\n",
    "    for item in body_list:\n",
    "        \n",
    "        if item is None:\n",
    "            result.append(np.nan)\n",
    "        else:\n",
    "            lower_item = item.lower()\n",
    "            if any(i in lower_item for i in ['4d passenger van','van']):\n",
    "                result.append('minivan/van')\n",
    "            elif any(i in lower_item for i in ['4dr car']):\n",
    "                result.append('sedan')\n",
    "            elif any(i in lower_item for i in ['car']):\n",
    "                result.append('wagon')\n",
    "            elif any(i in lower_item for i in ['4 door suv']):\n",
    "                result.append('suv')\n",
    "            elif any(i in lower_item for i in ['hatchback']):\n",
    "                result.append('hatchback')\n",
    "            elif any(i in lower_item for i in ['coupe']):\n",
    "                result.append('coupe')\n",
    "            else:\n",
    "                result.append(lower_item)\n",
    "    \n",
    "    return result\n",
    "        \n"
   ]
  },
  {
   "cell_type": "code",
   "execution_count": null,
   "metadata": {
    "collapsed": true
   },
   "outputs": [],
   "source": [
    "df['bodyStyle_clean'] = get_body_style(df['bodyStyle'])"
   ]
  },
  {
   "cell_type": "code",
   "execution_count": null,
   "metadata": {
    "collapsed": true
   },
   "outputs": [],
   "source": [
    "df.loc[pd.isnull(df.bodyStyle_clean) & df.make.isin(['Chevrolet']),'bodyStyle_clean'] = 'sedan'\n",
    "df.loc[pd.isnull(df.bodyStyle_clean) & df.make.isin(['Kia']),'bodyStyle_clean'] = 'wagon'"
   ]
  },
  {
   "cell_type": "code",
   "execution_count": null,
   "metadata": {},
   "outputs": [],
   "source": [
    "df.bodyStyle_clean.unique()"
   ]
  },
  {
   "cell_type": "code",
   "execution_count": null,
   "metadata": {
    "collapsed": true
   },
   "outputs": [],
   "source": [
    "def get_exterior_Color(color_list):\n",
    "    result = []\n",
    "    for item in color_list:\n",
    "        lower_item = item.lower()\n",
    "        if item == 'N/A' or item == '-':\n",
    "            result.append('not_available')\n",
    "        \n",
    "        elif any(i in lower_item for i in ['white','ivory','mojave','winter frost','cream','desert sand',\\\n",
    "                                           'creme','whitr', 'blizzard','starfire','arctic frost','platinum ice',\\\n",
    "                                          'moonglow','blizard','iceberg','capparis','lghtwht','moonlight pearl',\\\n",
    "                                           'bianco eldorado','fresh powder','pepper','alpine','bianco elderado']):\n",
    "            result.append('white')\n",
    "        elif any(i in lower_item for i in ['black','ebony','blk','blac','obsidian','jet','raven']):\n",
    "            result.append('black')\n",
    "        elif any(i in lower_item for i in ['blue','sapphire','still night','sky','indigo','sea','mntn air',\\\n",
    "                                          'mountain air','abyss','ocean','winter chill','ice storm','night',\\\n",
    "                                           'navy','cerulean','blazing','royal']):\n",
    "            result.append('black')\n",
    "        elif any(i in lower_item for i in ['brown','coffee','khaki','chocolate','tan','beige','forged bronze',\\\n",
    "                                           'fire agate','bronze','dark amber','truffle','biege','quicksand',\\\n",
    "                                          'mocha almond','espresso']):\n",
    "            result.append('brown')\n",
    "        elif any(i in lower_item for i in ['gold','champagne','palladium','champaigne','saharan stone',\\\n",
    "                                           'champaign','cashmere','sandstone','pyrite', 'saharan sun',\\\n",
    "                                           'beachwood','dune']):\n",
    "            result.append('gold')\n",
    "        elif any(i in lower_item for i in ['gray','grey','steel','graphite','metal','charcoal','anthracite',\\\n",
    "                                           'titanium','tungsten metallic','granit','guard','slate','hematite',\\\n",
    "                                          'gun','gary','smoky topaz','flint','galactic aqua','magnetic']):\n",
    "            result.append('gray')\n",
    "        elif any(i in lower_item for i in ['green','teal','tank','cactus','sublime','bamboo','spruce',\\\n",
    "                                           'sagebrush','jade','cypress','moss']):\n",
    "            result.append('green')\n",
    "        elif any(i in lower_item for i in ['yellow','spice']):\n",
    "            result.append('yellow')\n",
    "        elif any(i in lower_item for i in ['silver','billet','silvr','bronzemist','pewter','driftwood',\\\n",
    "                                           'lunar','moonstone','liquid platinum','iron frost','ipanema sand',\\\n",
    "                                          'silv','slvr','sivler','sliver','andesite','tungsten pearl','moonwalk']):\n",
    "            result.append('silver')\n",
    "        elif any(i in lower_item for i in ['maroon','cherry','wine','burgundy','deep auburn','burgrandy',\\\n",
    "                                           'burgandy','claret','tuscan sun','merlot','sangria','pomegranate',\\\n",
    "                                          'chardonnay','bordeaux']):\n",
    "            result.append('maroon')\n",
    "        elif any(i in lower_item for i in ['purple','plum']):\n",
    "            result.append('purple')\n",
    "        elif any(i in lower_item for i in ['red','crimson','ruby','rosso','chili','volcano']):\n",
    "            result.append('red')\n",
    "        elif any(i in lower_item for i in ['orange','sunset','tiger eye','forged copper','lava',\\\n",
    "                                           'volcanic','inferno','canyon copper','habanero','vitamin c',\\\n",
    "                                          'molten pearl','burnished copper']):\n",
    "            result.append('orange')\n",
    "        else:\n",
    "            #print(lower_item)\n",
    "            result.append('others')\n",
    "    \n",
    "    return result\n",
    "        "
   ]
  },
  {
   "cell_type": "code",
   "execution_count": null,
   "metadata": {
    "collapsed": true,
    "scrolled": false
   },
   "outputs": [],
   "source": [
    "df['exteriorColor_clean'] = get_exterior_Color(df.exteriorColor)"
   ]
  },
  {
   "cell_type": "code",
   "execution_count": null,
   "metadata": {},
   "outputs": [],
   "source": [
    "df.exteriorColor_clean.unique()"
   ]
  },
  {
   "cell_type": "code",
   "execution_count": null,
   "metadata": {
    "collapsed": true
   },
   "outputs": [],
   "source": [
    "def get_interior_Color(color_list):\n",
    "    result = []\n",
    "    for item in color_list:\n",
    "        lower_item = item.lower()\n",
    "        if item == 'N/A' or item == '-':\n",
    "            result.append('not_available')\n",
    "        \n",
    "        elif any(i in lower_item for i in ['white','ivory','mojave','winter frost','cream','desert sand',\\\n",
    "                                           'creme','whitr', 'blizzard','starfire','arctic frost','platinum ice',\\\n",
    "                                          'moonglow','blizard','iceberg','capparis','lghtwht','moonlight pearl',\\\n",
    "                                           'bianco eldorado','fresh powder','pepper','alpine','bianco elderado']):\n",
    "            result.append('white')\n",
    "        elif any(i in lower_item for i in ['black','ebony','blk','blac','obsidian','jet','raven']):\n",
    "            result.append('black')\n",
    "        elif any(i in lower_item for i in ['blue','sapphire','still night','sky','indigo','sea','mntn air',\\\n",
    "                                          'mountain air','abyss','ocean','winter chill','ice storm','night',\\\n",
    "                                           'navy','cerulean','blazing','royal']):\n",
    "            result.append('black')\n",
    "        elif any(i in lower_item for i in ['brown','coffee','khaki','chocolate','tan','beige','forged bronze',\\\n",
    "                                           'fire agate','bronze','dark amber','truffle','biege','quicksand',\\\n",
    "                                          'almond','espresso','tan','taupe','stone','dune','hazelnut']):\n",
    "            result.append('brown')\n",
    "        \n",
    "        elif any(i in lower_item for i in ['gray','grey','steel','graphite','metal','charcoal','anthracite',\\\n",
    "                                           'titanium','tungsten metallic','granit','guard','slate','hematite',\\\n",
    "                                          'gun','gary','smoky topaz','flint','galactic aqua','magnetic']):\n",
    "            result.append('gray')\n",
    "        elif any(i in lower_item for i in ['green','teal','tank','cactus','sublime','bamboo','spruce',\\\n",
    "                                           'sagebrush','jade','cypress','moss']):\n",
    "            result.append('green')\n",
    "        elif any(i in lower_item for i in ['yellow','spice']):\n",
    "            result.append('yellow')\n",
    "        \n",
    "        elif any(i in lower_item for i in ['maroon','cherry','wine','burgundy','deep auburn','burgrandy',\\\n",
    "                                           'burgandy','claret','tuscan sun','merlot','sangria','pomegranate',\\\n",
    "                                          'chardonnay','bordeaux']):\n",
    "            result.append('maroon')\n",
    "        elif any(i in lower_item for i in ['purple','plum']):\n",
    "            result.append('purple')\n",
    "        elif any(i in lower_item for i in ['red','crimson','ruby','rosso','chili','volcano']):\n",
    "            result.append('red')\n",
    "        elif any(i in lower_item for i in ['orange','sunset','tiger eye','forged copper','lava',\\\n",
    "                                           'volcanic','inferno','canyon copper','habanero','vitamin c',\\\n",
    "                                          'molten pearl','burnished copper']):\n",
    "            result.append('orange')\n",
    "        else:\n",
    "            #print(lower_item)\n",
    "            result.append('others')\n",
    "    \n",
    "    return result\n",
    "        "
   ]
  },
  {
   "cell_type": "code",
   "execution_count": null,
   "metadata": {
    "collapsed": true
   },
   "outputs": [],
   "source": [
    "df['interiorColor_clean'] = get_interior_Color(df.interiorColor)"
   ]
  },
  {
   "cell_type": "code",
   "execution_count": null,
   "metadata": {},
   "outputs": [],
   "source": [
    "df.interiorColor_clean.unique()"
   ]
  },
  {
   "cell_type": "code",
   "execution_count": null,
   "metadata": {
    "collapsed": true
   },
   "outputs": [],
   "source": [
    "df['city_clean'] = df.city.str.lower()"
   ]
  },
  {
   "cell_type": "code",
   "execution_count": null,
   "metadata": {
    "collapsed": true
   },
   "outputs": [],
   "source": [
    "df['car_age_clean'] = 2018-df.year"
   ]
  },
  {
   "cell_type": "code",
   "execution_count": null,
   "metadata": {},
   "outputs": [],
   "source": [
    "df.car_age_clean.describe()"
   ]
  },
  {
   "cell_type": "code",
   "execution_count": null,
   "metadata": {
    "collapsed": true
   },
   "outputs": [],
   "source": [
    "def get_keyword(keyword,feature_block):\n",
    "    result = []\n",
    "    feature_list = feature_block.lower().split(',')\n",
    "    for item in feature_list:\n",
    "        if keyword in item:\n",
    "            result.append(item)\n",
    "    return ','.join(result)\n"
   ]
  },
  {
   "cell_type": "code",
   "execution_count": null,
   "metadata": {
    "collapsed": true
   },
   "outputs": [],
   "source": [
    "df['feature_keyless_entry_clean'] = ['keyless entry' in item for item in df.features.str.lower()]\n",
    "df['feature_keyless_start_clean'] = ['keyless start' in item for item in df.features.str.lower()]\n",
    "df['feature_heated_seats_clean'] = [any(s in item for s in ['heated seats','heated front seats',\\\n",
    "                                                          'heated rear seats','heated &amp; ventilated front seats']) for item in df.features.str.lower()]\n",
    "df['feature_ventilated_seats_clean'] = [any(s in item for s in ['ventilated seats','ventilated front seats']) for item in df.features.str.lower()]\n",
    "df['feature_leather_seats_clean'] = [any(s in item for s in ['leather seat']) for item in df.features.str.lower()]\n",
    "df['feature_rear_camera_parking_clean'] = [any(s in item for s in ['backup camera','back-up cameara',\\\n",
    "                                                           'back view camera','rearview camera',\\\n",
    "                                                           'rear-view camera','parking assist']) for item in df.features.str.lower()]\n",
    "df['feature_driver_assist_clean'] = [any(s in item for s in ['driver assist','blind spot','blind-spot']) for item in df.features.str.lower()]\n",
    "df['feature_cruise_control_clean'] = [any(s in item for s in ['cruise control']) for item in df.features.str.lower()]\n",
    "df['feature_moonroof_clean'] = [any(s in item for s in ['moon roof','moonroof']) for item in df.features.str.lower()]\n",
    "df['feature_navigation_clean'] = [any(s in item for s in ['navigation']) for item in df.features.str.lower()]\n",
    "df['feature_premium_wheels_clean'] = [any(s in item for s in ['premium wheel']) for item in df.features.str.lower()]"
   ]
  },
  {
   "cell_type": "code",
   "execution_count": null,
   "metadata": {
    "collapsed": true
   },
   "outputs": [],
   "source": [
    "feature_cols = df.filter(regex=(\"^feature_.*clean$\"),axis=1).columns\n",
    "df[feature_cols] = df.filter(regex=(\"^feature_.*clean$\"),axis=1).astype(float)"
   ]
  },
  {
   "cell_type": "code",
   "execution_count": null,
   "metadata": {},
   "outputs": [],
   "source": [
    "df[feature_cols].describe()"
   ]
  },
  {
   "cell_type": "code",
   "execution_count": null,
   "metadata": {
    "collapsed": true
   },
   "outputs": [],
   "source": [
    "df['make_model_count'] = df.groupby(['make','model'])['listPrice'].transform('count')\n",
    "df['model_clean'] = df['model']\n",
    "df.loc[df['make_model_count'] < 20,'model_clean'] = 'others'\n",
    "df.groupby(['make','model_clean'])['listPrice'].agg(['count'])\n",
    "df['make_clean'] = df.make"
   ]
  },
  {
   "cell_type": "code",
   "execution_count": null,
   "metadata": {},
   "outputs": [],
   "source": [
    "df.info()"
   ]
  },
  {
   "cell_type": "code",
   "execution_count": null,
   "metadata": {
    "collapsed": true
   },
   "outputs": [],
   "source": [
    "clean_data_cols = df.filter(regex=(\".*clean$|listPrice|mileage\"),axis=1).columns"
   ]
  },
  {
   "cell_type": "code",
   "execution_count": null,
   "metadata": {
    "collapsed": true
   },
   "outputs": [],
   "source": [
    "df[clean_data_cols].to_pickle('./analysis/truecar_clean_data.plk')"
   ]
  },
  {
   "cell_type": "code",
   "execution_count": null,
   "metadata": {
    "collapsed": true
   },
   "outputs": [],
   "source": []
  },
  {
   "cell_type": "code",
   "execution_count": null,
   "metadata": {
    "collapsed": true
   },
   "outputs": [],
   "source": []
  },
  {
   "cell_type": "code",
   "execution_count": null,
   "metadata": {
    "collapsed": true
   },
   "outputs": [],
   "source": []
  }
 ],
 "metadata": {
  "kernelspec": {
   "display_name": "py35",
   "language": "python",
   "name": "py35"
  },
  "language_info": {
   "codemirror_mode": {
    "name": "ipython",
    "version": 3
   },
   "file_extension": ".py",
   "mimetype": "text/x-python",
   "name": "python",
   "nbconvert_exporter": "python",
   "pygments_lexer": "ipython3",
   "version": "3.5.3"
  }
 },
 "nbformat": 4,
 "nbformat_minor": 2
}
